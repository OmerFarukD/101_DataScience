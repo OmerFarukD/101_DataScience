{
 "cells": [
  {
   "cell_type": "code",
   "execution_count": 1,
   "id": "870364e2",
   "metadata": {},
   "outputs": [],
   "source": [
    "import numpy as np\n",
    "import pandas as pd"
   ]
  },
  {
   "cell_type": "code",
   "execution_count": 2,
   "id": "deb36028",
   "metadata": {},
   "outputs": [],
   "source": [
    "ilkIndexler=[\"Simpson\",\"Simpson\",\"Simpson\",\"South Park\",\"South Park\",\"South Park\"]\n",
    "icIndexler=[\"Mehmet\",\"Ali\",\"Ömer\",\"Manas\",\"Sayit\",\"Caner\"]\n",
    "birlesmisIndexler=list(zip(ilkIndexler,icIndexler))"
   ]
  },
  {
   "cell_type": "code",
   "execution_count": 4,
   "id": "195e0624",
   "metadata": {},
   "outputs": [],
   "source": [
    "birlesmisIndexler=pd.MultiIndex.from_tuples(birlesmisIndexler)"
   ]
  },
  {
   "cell_type": "code",
   "execution_count": 5,
   "id": "57c52990",
   "metadata": {},
   "outputs": [
    {
     "data": {
      "text/plain": [
       "MultiIndex([(   'Simpson', 'Mehmet'),\n",
       "            (   'Simpson',    'Ali'),\n",
       "            (   'Simpson',   'Ömer'),\n",
       "            ('South Park',  'Manas'),\n",
       "            ('South Park',  'Sayit'),\n",
       "            ('South Park',  'Caner')],\n",
       "           )"
      ]
     },
     "execution_count": 5,
     "metadata": {},
     "output_type": "execute_result"
    }
   ],
   "source": [
    "birlesmisIndexler"
   ]
  },
  {
   "cell_type": "code",
   "execution_count": 8,
   "id": "cd48d962",
   "metadata": {},
   "outputs": [],
   "source": [
    "benimListem=[[40,\"A\"],[30,\"B\"],[20,\"D\"],[10,\"C\"],[11,\"E\"],[23,\"S\"]]"
   ]
  },
  {
   "cell_type": "code",
   "execution_count": 9,
   "id": "0cb63e6b",
   "metadata": {},
   "outputs": [],
   "source": [
    "npMyList=np.array(benimListem)"
   ]
  },
  {
   "cell_type": "code",
   "execution_count": 12,
   "id": "9c6ca49b",
   "metadata": {},
   "outputs": [],
   "source": [
    "veriler=pd.DataFrame(npMyList,index=birlesmisIndexler,columns=[\"Yaş\",\"Meslek\"])"
   ]
  },
  {
   "cell_type": "code",
   "execution_count": 13,
   "id": "5521887e",
   "metadata": {},
   "outputs": [
    {
     "data": {
      "text/html": [
       "<div>\n",
       "<style scoped>\n",
       "    .dataframe tbody tr th:only-of-type {\n",
       "        vertical-align: middle;\n",
       "    }\n",
       "\n",
       "    .dataframe tbody tr th {\n",
       "        vertical-align: top;\n",
       "    }\n",
       "\n",
       "    .dataframe thead th {\n",
       "        text-align: right;\n",
       "    }\n",
       "</style>\n",
       "<table border=\"1\" class=\"dataframe\">\n",
       "  <thead>\n",
       "    <tr style=\"text-align: right;\">\n",
       "      <th></th>\n",
       "      <th></th>\n",
       "      <th>Yaş</th>\n",
       "      <th>Meslek</th>\n",
       "    </tr>\n",
       "  </thead>\n",
       "  <tbody>\n",
       "    <tr>\n",
       "      <th rowspan=\"3\" valign=\"top\">Simpson</th>\n",
       "      <th>Mehmet</th>\n",
       "      <td>40</td>\n",
       "      <td>A</td>\n",
       "    </tr>\n",
       "    <tr>\n",
       "      <th>Ali</th>\n",
       "      <td>30</td>\n",
       "      <td>B</td>\n",
       "    </tr>\n",
       "    <tr>\n",
       "      <th>Ömer</th>\n",
       "      <td>20</td>\n",
       "      <td>D</td>\n",
       "    </tr>\n",
       "    <tr>\n",
       "      <th rowspan=\"3\" valign=\"top\">South Park</th>\n",
       "      <th>Manas</th>\n",
       "      <td>10</td>\n",
       "      <td>C</td>\n",
       "    </tr>\n",
       "    <tr>\n",
       "      <th>Sayit</th>\n",
       "      <td>11</td>\n",
       "      <td>E</td>\n",
       "    </tr>\n",
       "    <tr>\n",
       "      <th>Caner</th>\n",
       "      <td>23</td>\n",
       "      <td>S</td>\n",
       "    </tr>\n",
       "  </tbody>\n",
       "</table>\n",
       "</div>"
      ],
      "text/plain": [
       "                  Yaş Meslek\n",
       "Simpson    Mehmet  40      A\n",
       "           Ali     30      B\n",
       "           Ömer    20      D\n",
       "South Park Manas   10      C\n",
       "           Sayit   11      E\n",
       "           Caner   23      S"
      ]
     },
     "execution_count": 13,
     "metadata": {},
     "output_type": "execute_result"
    }
   ],
   "source": [
    "veriler"
   ]
  },
  {
   "cell_type": "code",
   "execution_count": 14,
   "id": "1e5dd387",
   "metadata": {},
   "outputs": [
    {
     "data": {
      "text/html": [
       "<div>\n",
       "<style scoped>\n",
       "    .dataframe tbody tr th:only-of-type {\n",
       "        vertical-align: middle;\n",
       "    }\n",
       "\n",
       "    .dataframe tbody tr th {\n",
       "        vertical-align: top;\n",
       "    }\n",
       "\n",
       "    .dataframe thead th {\n",
       "        text-align: right;\n",
       "    }\n",
       "</style>\n",
       "<table border=\"1\" class=\"dataframe\">\n",
       "  <thead>\n",
       "    <tr style=\"text-align: right;\">\n",
       "      <th></th>\n",
       "      <th>Yaş</th>\n",
       "      <th>Meslek</th>\n",
       "    </tr>\n",
       "  </thead>\n",
       "  <tbody>\n",
       "    <tr>\n",
       "      <th>Mehmet</th>\n",
       "      <td>40</td>\n",
       "      <td>A</td>\n",
       "    </tr>\n",
       "    <tr>\n",
       "      <th>Ali</th>\n",
       "      <td>30</td>\n",
       "      <td>B</td>\n",
       "    </tr>\n",
       "    <tr>\n",
       "      <th>Ömer</th>\n",
       "      <td>20</td>\n",
       "      <td>D</td>\n",
       "    </tr>\n",
       "  </tbody>\n",
       "</table>\n",
       "</div>"
      ],
      "text/plain": [
       "       Yaş Meslek\n",
       "Mehmet  40      A\n",
       "Ali     30      B\n",
       "Ömer    20      D"
      ]
     },
     "execution_count": 14,
     "metadata": {},
     "output_type": "execute_result"
    }
   ],
   "source": [
    "veriler.loc[\"Simpson\"]"
   ]
  },
  {
   "cell_type": "code",
   "execution_count": 15,
   "id": "99b96019",
   "metadata": {},
   "outputs": [
    {
     "data": {
      "text/plain": [
       "Yaş       30\n",
       "Meslek     B\n",
       "Name: Ali, dtype: object"
      ]
     },
     "execution_count": 15,
     "metadata": {},
     "output_type": "execute_result"
    }
   ],
   "source": [
    "veriler.loc[\"Simpson\"].loc[\"Ali\"]"
   ]
  },
  {
   "cell_type": "code",
   "execution_count": 17,
   "id": "d510a74f",
   "metadata": {},
   "outputs": [
    {
     "data": {
      "text/plain": [
       "Yaş       30\n",
       "Meslek     B\n",
       "Name: (Simpson, Ali), dtype: object"
      ]
     },
     "execution_count": 17,
     "metadata": {},
     "output_type": "execute_result"
    }
   ],
   "source": [
    "veriler.loc[\"Simpson\",\"Ali\"]"
   ]
  },
  {
   "cell_type": "code",
   "execution_count": 21,
   "id": "61b2bfcf",
   "metadata": {},
   "outputs": [],
   "source": [
    "veriler.index.names=[\"Soyadı\",\"Adı\"]"
   ]
  },
  {
   "cell_type": "code",
   "execution_count": 22,
   "id": "13fdc57f",
   "metadata": {},
   "outputs": [
    {
     "data": {
      "text/html": [
       "<div>\n",
       "<style scoped>\n",
       "    .dataframe tbody tr th:only-of-type {\n",
       "        vertical-align: middle;\n",
       "    }\n",
       "\n",
       "    .dataframe tbody tr th {\n",
       "        vertical-align: top;\n",
       "    }\n",
       "\n",
       "    .dataframe thead th {\n",
       "        text-align: right;\n",
       "    }\n",
       "</style>\n",
       "<table border=\"1\" class=\"dataframe\">\n",
       "  <thead>\n",
       "    <tr style=\"text-align: right;\">\n",
       "      <th></th>\n",
       "      <th></th>\n",
       "      <th>Yaş</th>\n",
       "      <th>Meslek</th>\n",
       "    </tr>\n",
       "    <tr>\n",
       "      <th>Soyadı</th>\n",
       "      <th>Adı</th>\n",
       "      <th></th>\n",
       "      <th></th>\n",
       "    </tr>\n",
       "  </thead>\n",
       "  <tbody>\n",
       "    <tr>\n",
       "      <th rowspan=\"3\" valign=\"top\">Simpson</th>\n",
       "      <th>Mehmet</th>\n",
       "      <td>40</td>\n",
       "      <td>A</td>\n",
       "    </tr>\n",
       "    <tr>\n",
       "      <th>Ali</th>\n",
       "      <td>30</td>\n",
       "      <td>B</td>\n",
       "    </tr>\n",
       "    <tr>\n",
       "      <th>Ömer</th>\n",
       "      <td>20</td>\n",
       "      <td>D</td>\n",
       "    </tr>\n",
       "    <tr>\n",
       "      <th rowspan=\"3\" valign=\"top\">South Park</th>\n",
       "      <th>Manas</th>\n",
       "      <td>10</td>\n",
       "      <td>C</td>\n",
       "    </tr>\n",
       "    <tr>\n",
       "      <th>Sayit</th>\n",
       "      <td>11</td>\n",
       "      <td>E</td>\n",
       "    </tr>\n",
       "    <tr>\n",
       "      <th>Caner</th>\n",
       "      <td>23</td>\n",
       "      <td>S</td>\n",
       "    </tr>\n",
       "  </tbody>\n",
       "</table>\n",
       "</div>"
      ],
      "text/plain": [
       "                  Yaş Meslek\n",
       "Soyadı     Adı              \n",
       "Simpson    Mehmet  40      A\n",
       "           Ali     30      B\n",
       "           Ömer    20      D\n",
       "South Park Manas   10      C\n",
       "           Sayit   11      E\n",
       "           Caner   23      S"
      ]
     },
     "execution_count": 22,
     "metadata": {},
     "output_type": "execute_result"
    }
   ],
   "source": [
    "veriler"
   ]
  },
  {
   "cell_type": "code",
   "execution_count": null,
   "id": "27a4a564",
   "metadata": {},
   "outputs": [],
   "source": []
  }
 ],
 "metadata": {
  "kernelspec": {
   "display_name": "Python 3",
   "language": "python",
   "name": "python3"
  },
  "language_info": {
   "codemirror_mode": {
    "name": "ipython",
    "version": 3
   },
   "file_extension": ".py",
   "mimetype": "text/x-python",
   "name": "python",
   "nbconvert_exporter": "python",
   "pygments_lexer": "ipython3",
   "version": "3.8.8"
  }
 },
 "nbformat": 4,
 "nbformat_minor": 5
}
