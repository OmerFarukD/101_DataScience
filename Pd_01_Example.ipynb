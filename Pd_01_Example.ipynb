{
 "cells": [
  {
   "cell_type": "code",
   "execution_count": 1,
   "id": "86dab919",
   "metadata": {},
   "outputs": [
    {
     "name": "stdout",
     "output_type": "stream",
     "text": [
      "[[2000   18   18]\n",
      " [3000   20   15]\n",
      " [4000   18   20]]\n",
      "       Maas  Yas  Calisma Saati\n",
      "Ömer   2000   18             18\n",
      "Faruk  3000   20             15\n",
      "Doğan  4000   18             20\n",
      "       Maas  Yas  Calisma Saati Yaş ortalaması\n",
      "Ömer   2000   18             18          Küçük\n",
      "Faruk  3000   20             15          Büyük\n",
      "Doğan  4000   18             20          Küçük\n"
     ]
    }
   ],
   "source": [
    "import pandas as pd\n",
    "import numpy as np\n",
    "\n",
    "data=np.array([2000,18,18,3000,20,15,4000,18,20])\n",
    "data=data.reshape(3,3)\n",
    "print(data)\n",
    "yeniDataFrame=pd.DataFrame(data,index=[\"Ömer\",\"Faruk\",\"Doğan\"],columns=[\"Maas\",\"Yas\",\"Calisma Saati\"])\n",
    "print(yeniDataFrame)\n",
    "ortalama=yeniDataFrame.Yas.mean()\n",
    "yeniDataFrame[\"Yaş ortalaması\"]=[\"Küçük\" if i<ortalama else \"Büyük\" for i in yeniDataFrame.Yas]\n",
    "\n",
    "veriler=yeniDataFrame\n",
    "print(veriler)\n"
   ]
  },
  {
   "cell_type": "code",
   "execution_count": 3,
   "id": "bb88aa61",
   "metadata": {},
   "outputs": [
    {
     "data": {
      "text/html": [
       "<div>\n",
       "<style scoped>\n",
       "    .dataframe tbody tr th:only-of-type {\n",
       "        vertical-align: middle;\n",
       "    }\n",
       "\n",
       "    .dataframe tbody tr th {\n",
       "        vertical-align: top;\n",
       "    }\n",
       "\n",
       "    .dataframe thead th {\n",
       "        text-align: right;\n",
       "    }\n",
       "</style>\n",
       "<table border=\"1\" class=\"dataframe\">\n",
       "  <thead>\n",
       "    <tr style=\"text-align: right;\">\n",
       "      <th></th>\n",
       "      <th>index</th>\n",
       "      <th>Maas</th>\n",
       "      <th>Yas</th>\n",
       "      <th>Calisma Saati</th>\n",
       "      <th>Yaş ortalaması</th>\n",
       "    </tr>\n",
       "  </thead>\n",
       "  <tbody>\n",
       "    <tr>\n",
       "      <th>0</th>\n",
       "      <td>Ömer</td>\n",
       "      <td>2000</td>\n",
       "      <td>18</td>\n",
       "      <td>18</td>\n",
       "      <td>Küçük</td>\n",
       "    </tr>\n",
       "    <tr>\n",
       "      <th>1</th>\n",
       "      <td>Faruk</td>\n",
       "      <td>3000</td>\n",
       "      <td>20</td>\n",
       "      <td>15</td>\n",
       "      <td>Büyük</td>\n",
       "    </tr>\n",
       "    <tr>\n",
       "      <th>2</th>\n",
       "      <td>Doğan</td>\n",
       "      <td>4000</td>\n",
       "      <td>18</td>\n",
       "      <td>20</td>\n",
       "      <td>Küçük</td>\n",
       "    </tr>\n",
       "  </tbody>\n",
       "</table>\n",
       "</div>"
      ],
      "text/plain": [
       "   index  Maas  Yas  Calisma Saati Yaş ortalaması\n",
       "0   Ömer  2000   18             18          Küçük\n",
       "1  Faruk  3000   20             15          Büyük\n",
       "2  Doğan  4000   18             20          Küçük"
      ]
     },
     "execution_count": 3,
     "metadata": {},
     "output_type": "execute_result"
    }
   ],
   "source": [
    "veriler.reset_index() #index ekledik."
   ]
  },
  {
   "cell_type": "code",
   "execution_count": 4,
   "id": "a3f26935",
   "metadata": {},
   "outputs": [],
   "source": [
    "yeni_index_list=[\"Omer\",\"Far\",\"Doğan\"]\n",
    "veriler[\"Yeni index\"]=yeni_index_list"
   ]
  },
  {
   "cell_type": "code",
   "execution_count": 5,
   "id": "72c1a5f0",
   "metadata": {},
   "outputs": [
    {
     "data": {
      "text/html": [
       "<div>\n",
       "<style scoped>\n",
       "    .dataframe tbody tr th:only-of-type {\n",
       "        vertical-align: middle;\n",
       "    }\n",
       "\n",
       "    .dataframe tbody tr th {\n",
       "        vertical-align: top;\n",
       "    }\n",
       "\n",
       "    .dataframe thead th {\n",
       "        text-align: right;\n",
       "    }\n",
       "</style>\n",
       "<table border=\"1\" class=\"dataframe\">\n",
       "  <thead>\n",
       "    <tr style=\"text-align: right;\">\n",
       "      <th></th>\n",
       "      <th>Maas</th>\n",
       "      <th>Yas</th>\n",
       "      <th>Calisma Saati</th>\n",
       "      <th>Yaş ortalaması</th>\n",
       "      <th>Yeni index</th>\n",
       "    </tr>\n",
       "  </thead>\n",
       "  <tbody>\n",
       "    <tr>\n",
       "      <th>Ömer</th>\n",
       "      <td>2000</td>\n",
       "      <td>18</td>\n",
       "      <td>18</td>\n",
       "      <td>Küçük</td>\n",
       "      <td>Omer</td>\n",
       "    </tr>\n",
       "    <tr>\n",
       "      <th>Faruk</th>\n",
       "      <td>3000</td>\n",
       "      <td>20</td>\n",
       "      <td>15</td>\n",
       "      <td>Büyük</td>\n",
       "      <td>Far</td>\n",
       "    </tr>\n",
       "    <tr>\n",
       "      <th>Doğan</th>\n",
       "      <td>4000</td>\n",
       "      <td>18</td>\n",
       "      <td>20</td>\n",
       "      <td>Küçük</td>\n",
       "      <td>Doğan</td>\n",
       "    </tr>\n",
       "  </tbody>\n",
       "</table>\n",
       "</div>"
      ],
      "text/plain": [
       "       Maas  Yas  Calisma Saati Yaş ortalaması Yeni index\n",
       "Ömer   2000   18             18          Küçük       Omer\n",
       "Faruk  3000   20             15          Büyük        Far\n",
       "Doğan  4000   18             20          Küçük      Doğan"
      ]
     },
     "execution_count": 5,
     "metadata": {},
     "output_type": "execute_result"
    }
   ],
   "source": [
    "veriler"
   ]
  },
  {
   "cell_type": "code",
   "execution_count": 7,
   "id": "2265d2e0",
   "metadata": {},
   "outputs": [],
   "source": [
    "veriler.set_index(\"Yeni index\",inplace=True)"
   ]
  },
  {
   "cell_type": "code",
   "execution_count": 8,
   "id": "9a80da2b",
   "metadata": {},
   "outputs": [
    {
     "data": {
      "text/html": [
       "<div>\n",
       "<style scoped>\n",
       "    .dataframe tbody tr th:only-of-type {\n",
       "        vertical-align: middle;\n",
       "    }\n",
       "\n",
       "    .dataframe tbody tr th {\n",
       "        vertical-align: top;\n",
       "    }\n",
       "\n",
       "    .dataframe thead th {\n",
       "        text-align: right;\n",
       "    }\n",
       "</style>\n",
       "<table border=\"1\" class=\"dataframe\">\n",
       "  <thead>\n",
       "    <tr style=\"text-align: right;\">\n",
       "      <th></th>\n",
       "      <th>Maas</th>\n",
       "      <th>Yas</th>\n",
       "      <th>Calisma Saati</th>\n",
       "      <th>Yaş ortalaması</th>\n",
       "    </tr>\n",
       "    <tr>\n",
       "      <th>Yeni index</th>\n",
       "      <th></th>\n",
       "      <th></th>\n",
       "      <th></th>\n",
       "      <th></th>\n",
       "    </tr>\n",
       "  </thead>\n",
       "  <tbody>\n",
       "    <tr>\n",
       "      <th>Omer</th>\n",
       "      <td>2000</td>\n",
       "      <td>18</td>\n",
       "      <td>18</td>\n",
       "      <td>Küçük</td>\n",
       "    </tr>\n",
       "    <tr>\n",
       "      <th>Far</th>\n",
       "      <td>3000</td>\n",
       "      <td>20</td>\n",
       "      <td>15</td>\n",
       "      <td>Büyük</td>\n",
       "    </tr>\n",
       "    <tr>\n",
       "      <th>Doğan</th>\n",
       "      <td>4000</td>\n",
       "      <td>18</td>\n",
       "      <td>20</td>\n",
       "      <td>Küçük</td>\n",
       "    </tr>\n",
       "  </tbody>\n",
       "</table>\n",
       "</div>"
      ],
      "text/plain": [
       "            Maas  Yas  Calisma Saati Yaş ortalaması\n",
       "Yeni index                                         \n",
       "Omer        2000   18             18          Küçük\n",
       "Far         3000   20             15          Büyük\n",
       "Doğan       4000   18             20          Küçük"
      ]
     },
     "execution_count": 8,
     "metadata": {},
     "output_type": "execute_result"
    }
   ],
   "source": [
    "veriler"
   ]
  },
  {
   "cell_type": "code",
   "execution_count": null,
   "id": "c940632c",
   "metadata": {},
   "outputs": [],
   "source": []
  }
 ],
 "metadata": {
  "kernelspec": {
   "display_name": "Python 3",
   "language": "python",
   "name": "python3"
  },
  "language_info": {
   "codemirror_mode": {
    "name": "ipython",
    "version": 3
   },
   "file_extension": ".py",
   "mimetype": "text/x-python",
   "name": "python",
   "nbconvert_exporter": "python",
   "pygments_lexer": "ipython3",
   "version": "3.8.8"
  }
 },
 "nbformat": 4,
 "nbformat_minor": 5
}
