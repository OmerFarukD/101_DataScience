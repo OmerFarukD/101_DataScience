{
 "cells": [
  {
   "cell_type": "code",
   "execution_count": 1,
   "id": "ff9d272d",
   "metadata": {},
   "outputs": [],
   "source": [
    "import numpy as np\n",
    "import pandas as pd"
   ]
  },
  {
   "cell_type": "code",
   "execution_count": 2,
   "id": "e09730d4",
   "metadata": {},
   "outputs": [],
   "source": [
    "veri1={\n",
    "    \"Isim\":[\"Ahmet\",\"Mehmet\",\"Ali\"],\n",
    "    \"Alan\":[\"Yazılım\",\"Tıp\",\"Hemşirelik\"],\n",
    "    \"Maas\":[10000,20000,3000]\n",
    "}"
   ]
  },
  {
   "cell_type": "code",
   "execution_count": 3,
   "id": "3909ff6a",
   "metadata": {},
   "outputs": [],
   "source": [
    "veri2={\n",
    "    \"Isim\":[\"Ömer\",\"Faruk\",\"Doğan\"],\n",
    "    \"Alan\":[\"Bilgisayar\",\"Elektrik\",\"Robotik\"],\n",
    "    \"Maas\":[10000,20000,30000]\n",
    "}"
   ]
  },
  {
   "cell_type": "code",
   "execution_count": 4,
   "id": "6b8f5a50",
   "metadata": {},
   "outputs": [],
   "source": [
    "data1=pd.DataFrame(veri1)\n",
    "data2=pd.DataFrame(veri2)"
   ]
  },
  {
   "cell_type": "code",
   "execution_count": 7,
   "id": "33964f22",
   "metadata": {},
   "outputs": [],
   "source": [
    "data3=pd.concat([data1,data2])"
   ]
  },
  {
   "cell_type": "code",
   "execution_count": 9,
   "id": "b306d8f6",
   "metadata": {},
   "outputs": [
    {
     "data": {
      "text/html": [
       "<div>\n",
       "<style scoped>\n",
       "    .dataframe tbody tr th:only-of-type {\n",
       "        vertical-align: middle;\n",
       "    }\n",
       "\n",
       "    .dataframe tbody tr th {\n",
       "        vertical-align: top;\n",
       "    }\n",
       "\n",
       "    .dataframe thead th {\n",
       "        text-align: right;\n",
       "    }\n",
       "</style>\n",
       "<table border=\"1\" class=\"dataframe\">\n",
       "  <thead>\n",
       "    <tr style=\"text-align: right;\">\n",
       "      <th></th>\n",
       "      <th>Isim</th>\n",
       "      <th>Alan</th>\n",
       "      <th>Maas</th>\n",
       "    </tr>\n",
       "    <tr>\n",
       "      <th>İndexler</th>\n",
       "      <th></th>\n",
       "      <th></th>\n",
       "      <th></th>\n",
       "    </tr>\n",
       "  </thead>\n",
       "  <tbody>\n",
       "    <tr>\n",
       "      <th>1</th>\n",
       "      <td>Ahmet</td>\n",
       "      <td>Yazılım</td>\n",
       "      <td>10000</td>\n",
       "    </tr>\n",
       "    <tr>\n",
       "      <th>2</th>\n",
       "      <td>Mehmet</td>\n",
       "      <td>Tıp</td>\n",
       "      <td>20000</td>\n",
       "    </tr>\n",
       "    <tr>\n",
       "      <th>3</th>\n",
       "      <td>Ali</td>\n",
       "      <td>Hemşirelik</td>\n",
       "      <td>3000</td>\n",
       "    </tr>\n",
       "    <tr>\n",
       "      <th>4</th>\n",
       "      <td>Ömer</td>\n",
       "      <td>Bilgisayar</td>\n",
       "      <td>10000</td>\n",
       "    </tr>\n",
       "    <tr>\n",
       "      <th>5</th>\n",
       "      <td>Faruk</td>\n",
       "      <td>Elektrik</td>\n",
       "      <td>20000</td>\n",
       "    </tr>\n",
       "    <tr>\n",
       "      <th>6</th>\n",
       "      <td>Doğan</td>\n",
       "      <td>Robotik</td>\n",
       "      <td>30000</td>\n",
       "    </tr>\n",
       "  </tbody>\n",
       "</table>\n",
       "</div>"
      ],
      "text/plain": [
       "            Isim        Alan   Maas\n",
       "İndexler                           \n",
       "1          Ahmet     Yazılım  10000\n",
       "2         Mehmet         Tıp  20000\n",
       "3            Ali  Hemşirelik   3000\n",
       "4           Ömer  Bilgisayar  10000\n",
       "5          Faruk    Elektrik  20000\n",
       "6          Doğan     Robotik  30000"
      ]
     },
     "execution_count": 9,
     "metadata": {},
     "output_type": "execute_result"
    }
   ],
   "source": [
    "data3[\"İndexler\"]=[1,2,3,4,5,6]\n",
    "data3.set_index(\"İndexler\")"
   ]
  },
  {
   "cell_type": "markdown",
   "id": "3190fc7f",
   "metadata": {},
   "source": [
    "## Merge"
   ]
  },
  {
   "cell_type": "code",
   "execution_count": 10,
   "id": "6f0f13b5",
   "metadata": {},
   "outputs": [],
   "source": [
    "veri3={\n",
    "    \"Isim\":[\"Ahmet\",\"Mehmet\",\"Ali\"],\n",
    "    \"Alan\":[\"Yazılım\",\"Tıp\",\"Hemşirelik\"],\n",
    "    \"Maas\":[10000,20000,3000]\n",
    "}\n",
    "veri4={\n",
    "    \"Isim\":[\"Ahmet\",\"Mehmet\",\"Ali\"],\n",
    "    \"Alan\":[\"Yazılım\",\"Tıp\",\"Hemşirelik\"],\n",
    "    \"Yas\":[18,20,21]\n",
    "}"
   ]
  },
  {
   "cell_type": "code",
   "execution_count": 11,
   "id": "e17c31e4",
   "metadata": {},
   "outputs": [],
   "source": [
    "dataFrame1=pd.DataFrame(veri3)\n",
    "dataFrame2=pd.DataFrame(veri4)"
   ]
  },
  {
   "cell_type": "code",
   "execution_count": 12,
   "id": "65778edb",
   "metadata": {},
   "outputs": [],
   "source": [
    "merge_Data=pd.merge(dataFrame1,dataFrame2,on=\"Isim\")"
   ]
  },
  {
   "cell_type": "code",
   "execution_count": 13,
   "id": "687b1cfb",
   "metadata": {},
   "outputs": [
    {
     "data": {
      "text/html": [
       "<div>\n",
       "<style scoped>\n",
       "    .dataframe tbody tr th:only-of-type {\n",
       "        vertical-align: middle;\n",
       "    }\n",
       "\n",
       "    .dataframe tbody tr th {\n",
       "        vertical-align: top;\n",
       "    }\n",
       "\n",
       "    .dataframe thead th {\n",
       "        text-align: right;\n",
       "    }\n",
       "</style>\n",
       "<table border=\"1\" class=\"dataframe\">\n",
       "  <thead>\n",
       "    <tr style=\"text-align: right;\">\n",
       "      <th></th>\n",
       "      <th>Isim</th>\n",
       "      <th>Alan_x</th>\n",
       "      <th>Maas</th>\n",
       "      <th>Alan_y</th>\n",
       "      <th>Yas</th>\n",
       "    </tr>\n",
       "  </thead>\n",
       "  <tbody>\n",
       "    <tr>\n",
       "      <th>0</th>\n",
       "      <td>Ahmet</td>\n",
       "      <td>Yazılım</td>\n",
       "      <td>10000</td>\n",
       "      <td>Yazılım</td>\n",
       "      <td>18</td>\n",
       "    </tr>\n",
       "    <tr>\n",
       "      <th>1</th>\n",
       "      <td>Mehmet</td>\n",
       "      <td>Tıp</td>\n",
       "      <td>20000</td>\n",
       "      <td>Tıp</td>\n",
       "      <td>20</td>\n",
       "    </tr>\n",
       "    <tr>\n",
       "      <th>2</th>\n",
       "      <td>Ali</td>\n",
       "      <td>Hemşirelik</td>\n",
       "      <td>3000</td>\n",
       "      <td>Hemşirelik</td>\n",
       "      <td>21</td>\n",
       "    </tr>\n",
       "  </tbody>\n",
       "</table>\n",
       "</div>"
      ],
      "text/plain": [
       "     Isim      Alan_x   Maas      Alan_y  Yas\n",
       "0   Ahmet     Yazılım  10000     Yazılım   18\n",
       "1  Mehmet         Tıp  20000         Tıp   20\n",
       "2     Ali  Hemşirelik   3000  Hemşirelik   21"
      ]
     },
     "execution_count": 13,
     "metadata": {},
     "output_type": "execute_result"
    }
   ],
   "source": [
    "merge_Data"
   ]
  },
  {
   "cell_type": "code",
   "execution_count": 16,
   "id": "c2cc12ce",
   "metadata": {},
   "outputs": [
    {
     "data": {
      "text/html": [
       "<div>\n",
       "<style scoped>\n",
       "    .dataframe tbody tr th:only-of-type {\n",
       "        vertical-align: middle;\n",
       "    }\n",
       "\n",
       "    .dataframe tbody tr th {\n",
       "        vertical-align: top;\n",
       "    }\n",
       "\n",
       "    .dataframe thead th {\n",
       "        text-align: right;\n",
       "    }\n",
       "</style>\n",
       "<table border=\"1\" class=\"dataframe\">\n",
       "  <thead>\n",
       "    <tr style=\"text-align: right;\">\n",
       "      <th></th>\n",
       "      <th>Isim</th>\n",
       "      <th>Maas</th>\n",
       "      <th>Alan_y</th>\n",
       "      <th>Yas</th>\n",
       "    </tr>\n",
       "  </thead>\n",
       "  <tbody>\n",
       "    <tr>\n",
       "      <th>0</th>\n",
       "      <td>Ahmet</td>\n",
       "      <td>10000</td>\n",
       "      <td>Yazılım</td>\n",
       "      <td>18</td>\n",
       "    </tr>\n",
       "    <tr>\n",
       "      <th>1</th>\n",
       "      <td>Mehmet</td>\n",
       "      <td>20000</td>\n",
       "      <td>Tıp</td>\n",
       "      <td>20</td>\n",
       "    </tr>\n",
       "    <tr>\n",
       "      <th>2</th>\n",
       "      <td>Ali</td>\n",
       "      <td>3000</td>\n",
       "      <td>Hemşirelik</td>\n",
       "      <td>21</td>\n",
       "    </tr>\n",
       "  </tbody>\n",
       "</table>\n",
       "</div>"
      ],
      "text/plain": [
       "     Isim   Maas      Alan_y  Yas\n",
       "0   Ahmet  10000     Yazılım   18\n",
       "1  Mehmet  20000         Tıp   20\n",
       "2     Ali   3000  Hemşirelik   21"
      ]
     },
     "execution_count": 16,
     "metadata": {},
     "output_type": "execute_result"
    }
   ],
   "source": [
    "merge_Data.drop(\"Alan_x\", axis=1)"
   ]
  },
  {
   "cell_type": "code",
   "execution_count": null,
   "id": "8c1a4eda",
   "metadata": {},
   "outputs": [],
   "source": []
  }
 ],
 "metadata": {
  "kernelspec": {
   "display_name": "Python 3",
   "language": "python",
   "name": "python3"
  },
  "language_info": {
   "codemirror_mode": {
    "name": "ipython",
    "version": 3
   },
   "file_extension": ".py",
   "mimetype": "text/x-python",
   "name": "python",
   "nbconvert_exporter": "python",
   "pygments_lexer": "ipython3",
   "version": "3.8.8"
  }
 },
 "nbformat": 4,
 "nbformat_minor": 5
}
